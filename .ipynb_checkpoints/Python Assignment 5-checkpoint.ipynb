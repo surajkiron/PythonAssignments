{
 "cells": [
  {
   "cell_type": "markdown",
   "metadata": {},
   "source": [
    "### Question 1\n",
    "Write Python code which does the following  \n",
    "a. Creates a new database called census.db"
   ]
  },
  {
   "cell_type": "code",
   "execution_count": 34,
   "metadata": {},
   "outputs": [],
   "source": [
    "# importing the sqlite library\n",
    "import sqlite3\n",
    "# creating connector object\n",
    "# this will either create a new data base or connect to the existing one \n",
    "conn = sqlite3.connect('Database/census.db')"
   ]
  },
  {
   "cell_type": "markdown",
   "metadata": {},
   "source": [
    "b. Makes a database table called Density that will hold the name of the\n",
    "province or territory (TEXT), the population (INTEGER), and the land area\n",
    "(REAL)"
   ]
  },
  {
   "cell_type": "code",
   "execution_count": 35,
   "metadata": {},
   "outputs": [],
   "source": [
    "try:\n",
    "    # creating a table and creating a cursor\n",
    "    conn.execute('create table density (territory TEXT, population INTEGER, land_area REAL)')\n",
    "except:\n",
    "    # an error will be generated if the table is already there\n",
    "    print('table already exists')\n",
    "cur = conn.cursor()"
   ]
  },
  {
   "cell_type": "markdown",
   "metadata": {},
   "source": [
    "c. Inserts the data from Table 32, 2001 Canadian Census Data, on page 361"
   ]
  },
  {
   "cell_type": "code",
   "execution_count": 36,
   "metadata": {},
   "outputs": [],
   "source": [
    "# insert all the rows into the table\n",
    "cur.execute('insert into density(territory, population, land_area) values (\"Newfoundland and Labrador\",512930,370501.69)')\n",
    "cur.execute('insert into density(territory, population, land_area) values (\"Prince Edward Island\",135294,5684.39)')\n",
    "cur.execute('insert into density(territory, population, land_area) values (\"Nova Scotia\",908007,52917.43)')\n",
    "cur.execute('insert into density(territory, population, land_area) values (\"New Brunswick\",729498,71355.67)')\n",
    "cur.execute('insert into density(territory, population, land_area) values (\"Quebec\",7237479,1357743.08)')\n",
    "cur.execute('insert into density(territory, population, land_area) values (\"Ontario\",11410046,907655.59)')\n",
    "cur.execute('insert into density(territory, population, land_area) values (\"Manitoba\",1119583,551937.87)')\n",
    "cur.execute('insert into density(territory, population, land_area) values (\"Saskatchewan\",978933,586561.35)')\n",
    "cur.execute('insert into density(territory, population, land_area) values (\"Alberta\",2974807,639987.12)')\n",
    "cur.execute('insert into density(territory, population, land_area) values (\"British Columbia\",3907738,926492.48)')\n",
    "cur.execute('insert into density(territory, population, land_area) values (\"Yukon Territory\",28674,474706.97)')\n",
    "cur.execute('insert into density(territory, population, land_area) values (\"Northwest Territories\",37360,1141108.37)')\n",
    "cur.execute('insert into density(territory, population, land_area) values (\"Nunavut\",26745,1925460.18)')\n",
    "conn.commit()"
   ]
  },
  {
   "cell_type": "markdown",
   "metadata": {},
   "source": [
    "d. Retrieves the contents of the table"
   ]
  },
  {
   "cell_type": "code",
   "execution_count": 37,
   "metadata": {},
   "outputs": [
    {
     "name": "stdout",
     "output_type": "stream",
     "text": [
      "Newfoundland and Labrador 512930 370501.69\n",
      "Prince Edward Island 135294 5684.39\n",
      "Nova Scotia 908007 52917.43\n",
      "New Brunswick 729498 71355.67\n",
      "Quebec 7237479 1357743.08\n",
      "Ontario 11410046 907655.59\n",
      "Manitoba 1119583 551937.87\n",
      "Saskatchewan 978933 586561.35\n",
      "Alberta 2974807 639987.12\n",
      "British Columbia 3907738 926492.48\n",
      "Yukon Territory 28674 474706.97\n",
      "Northwest Territories 37360 1141108.37\n",
      "Nunavut 26745 1925460.18\n"
     ]
    }
   ],
   "source": [
    "cur.execute('select * from density')\n",
    "rows = cur.fetchall()\n",
    "for i in rows:\n",
    "    print(i[0],i[1],i[2])"
   ]
  },
  {
   "cell_type": "markdown",
   "metadata": {},
   "source": [
    "e. Retrieves the populations"
   ]
  },
  {
   "cell_type": "code",
   "execution_count": 38,
   "metadata": {},
   "outputs": [
    {
     "name": "stdout",
     "output_type": "stream",
     "text": [
      "512930\n",
      "135294\n",
      "908007\n",
      "729498\n",
      "7237479\n",
      "11410046\n",
      "1119583\n",
      "978933\n",
      "2974807\n",
      "3907738\n",
      "28674\n",
      "37360\n",
      "26745\n"
     ]
    }
   ],
   "source": [
    "cur.execute('select population from density')\n",
    "rows = cur.fetchall()\n",
    "for i in rows:\n",
    "    print(i[0])"
   ]
  },
  {
   "cell_type": "markdown",
   "metadata": {},
   "source": [
    "f. Retrieves the provinces that have populations of less than one million"
   ]
  },
  {
   "cell_type": "code",
   "execution_count": 39,
   "metadata": {},
   "outputs": [
    {
     "name": "stdout",
     "output_type": "stream",
     "text": [
      "Newfoundland and Labrador\n",
      "Prince Edward Island\n",
      "Nova Scotia\n",
      "New Brunswick\n",
      "Saskatchewan\n",
      "Yukon Territory\n",
      "Northwest Territories\n",
      "Nunavut\n"
     ]
    }
   ],
   "source": [
    "cur.execute('select territory from density where population<1000000')\n",
    "rows = cur.fetchall()\n",
    "for i in rows:\n",
    "    print(i[0])"
   ]
  },
  {
   "cell_type": "markdown",
   "metadata": {},
   "source": [
    "g. Retrieves the provinces that have populations of less than one million\n",
    "or greater than five million"
   ]
  },
  {
   "cell_type": "code",
   "execution_count": 40,
   "metadata": {},
   "outputs": [
    {
     "name": "stdout",
     "output_type": "stream",
     "text": [
      "Newfoundland and Labrador\n",
      "Prince Edward Island\n",
      "Nova Scotia\n",
      "New Brunswick\n",
      "Quebec\n",
      "Ontario\n",
      "Saskatchewan\n",
      "Yukon Territory\n",
      "Northwest Territories\n",
      "Nunavut\n"
     ]
    }
   ],
   "source": [
    "cur.execute('select territory from density where population<1000000 or population>5000000')\n",
    "rows = cur.fetchall()\n",
    "for i in rows:\n",
    "    print(i[0])"
   ]
  },
  {
   "cell_type": "markdown",
   "metadata": {},
   "source": [
    "h. Retrieves the provinces that do not have populations of less than one\n",
    "million or greater than five million"
   ]
  },
  {
   "cell_type": "code",
   "execution_count": 41,
   "metadata": {},
   "outputs": [
    {
     "name": "stdout",
     "output_type": "stream",
     "text": [
      "Manitoba\n",
      "Alberta\n",
      "British Columbia\n"
     ]
    }
   ],
   "source": [
    "cur.execute('select territory from density where not (population<1000000 or population>5000000)')\n",
    "rows = cur.fetchall()\n",
    "for i in rows:\n",
    "    print(i[0])"
   ]
  },
  {
   "cell_type": "markdown",
   "metadata": {},
   "source": [
    "i. Retrieves the populations of provinces that have a land area greater\n",
    "than 200,000 square kilometers"
   ]
  },
  {
   "cell_type": "code",
   "execution_count": 42,
   "metadata": {},
   "outputs": [
    {
     "name": "stdout",
     "output_type": "stream",
     "text": [
      "512930\n",
      "7237479\n",
      "11410046\n",
      "1119583\n",
      "978933\n",
      "2974807\n",
      "3907738\n",
      "28674\n",
      "37360\n",
      "26745\n"
     ]
    }
   ],
   "source": [
    "cur.execute('select population from density where land_area>200000')\n",
    "rows = cur.fetchall()\n",
    "for i in rows:\n",
    "    print(i[0])"
   ]
  },
  {
   "cell_type": "markdown",
   "metadata": {},
   "source": [
    "j. Retrieves the provinces along with their population densities (population divided by land area)"
   ]
  },
  {
   "cell_type": "code",
   "execution_count": 43,
   "metadata": {},
   "outputs": [
    {
     "name": "stdout",
     "output_type": "stream",
     "text": [
      "Newfoundland and Labrador \t 1.384420135843375\n",
      "Prince Edward Island \t 23.8009707286094\n",
      "Nova Scotia \t 17.15893988048928\n",
      "New Brunswick \t 10.223406212848959\n",
      "Quebec \t 5.330521736115201\n",
      "Ontario \t 12.570898175154742\n",
      "Manitoba \t 2.0284583842743027\n",
      "Saskatchewan \t 1.6689353978062142\n",
      "Alberta \t 4.648229483118348\n",
      "British Columbia \t 4.217776273802028\n",
      "Yukon Territory \t 0.060403579075318826\n",
      "Northwest Territories \t 0.03274009812056676\n",
      "Nunavut \t 0.013890185981410428\n"
     ]
    }
   ],
   "source": [
    "cur.execute('select territory, population/land_area from density')\n",
    "rows = cur.fetchall()\n",
    "for i in rows:\n",
    "    print(i[0],'\\t',i[1])"
   ]
  },
  {
   "cell_type": "markdown",
   "metadata": {},
   "source": [
    "### Question 2"
   ]
  },
  {
   "cell_type": "code",
   "execution_count": 44,
   "metadata": {},
   "outputs": [],
   "source": [
    "try:\n",
    "    conn.execute('create table Capitals (territory TEXT, capital TEXT, population INTEGER)') \n",
    "except:\n",
    "    print('table already exists')"
   ]
  },
  {
   "cell_type": "code",
   "execution_count": 45,
   "metadata": {},
   "outputs": [],
   "source": [
    "cur.execute('insert into Capitals(territory, capital, population) values (\"Newfoundland and Labrador\",\"St. John’s\",172918)')\n",
    "cur.execute('insert into Capitals(territory, capital, population) values (\"Prince Edward Island\",\"Charlottetown \",58358)')\n",
    "cur.execute('insert into Capitals(territory, capital, population) values (\"Nova Scotia\",\"Halifax\",359183)')\n",
    "cur.execute('insert into Capitals(territory, capital, population) values (\"New Brunswick\",\"Fredericton\",81346)')\n",
    "cur.execute('insert into Capitals(territory, capital, population) values (\"Quebec\",\"Quebec City\",682757)')\n",
    "cur.execute('insert into Capitals(territory, capital, population) values (\"Ontario\",\"Toronto\",4682897)')\n",
    "cur.execute('insert into Capitals(territory, capital, population) values (\"Manitoba\",\"Winnipeg\",671274)')\n",
    "cur.execute('insert into Capitals(territory, capital, population) values (\"Saskatchewan\",\"Regina\",192800)')\n",
    "cur.execute('insert into Capitals(territory, capital, population) values (\"Alberta\",\"Edmonton\",937845)')\n",
    "cur.execute('insert into Capitals(territory, capital, population) values (\"British Columbia\",\"Victoria\",311902)')\n",
    "cur.execute('insert into Capitals(territory, capital, population) values (\"Yukon Territory\",\"Whitehorse\",21405)')\n",
    "cur.execute('insert into Capitals(territory, capital, population) values (\"Northwest Territories\",\"Yellowknife\",16541)')\n",
    "cur.execute('insert into Capitals(territory, capital, population) values (\"Nunavut\",\"Iqaluit\",5236)')\n",
    "conn.commit()"
   ]
  },
  {
   "cell_type": "markdown",
   "metadata": {},
   "source": [
    "a. Retrieve the contents of the table"
   ]
  },
  {
   "cell_type": "code",
   "execution_count": 46,
   "metadata": {},
   "outputs": [
    {
     "name": "stdout",
     "output_type": "stream",
     "text": [
      "Newfoundland and Labrador St. John’s 172918\n",
      "Prince Edward Island Charlottetown  58358\n",
      "Nova Scotia Halifax 359183\n",
      "New Brunswick Fredericton 81346\n",
      "Quebec Quebec City 682757\n",
      "Ontario Toronto 4682897\n",
      "Manitoba Winnipeg 671274\n",
      "Saskatchewan Regina 192800\n",
      "Alberta Edmonton 937845\n",
      "British Columbia Victoria 311902\n",
      "Yukon Territory Whitehorse 21405\n",
      "Northwest Territories Yellowknife 16541\n",
      "Nunavut Iqaluit 5236\n"
     ]
    }
   ],
   "source": [
    "cur.execute('select * from Capitals')\n",
    "rows = cur.fetchall()\n",
    "for i in rows:\n",
    "    print(i[0],i[1],i[2])"
   ]
  },
  {
   "cell_type": "markdown",
   "metadata": {},
   "source": [
    "b. Retrieve the populations of the provinces and capitals (in a list of\n",
    "tuples of the form [province population, capital population])"
   ]
  },
  {
   "cell_type": "code",
   "execution_count": 47,
   "metadata": {},
   "outputs": [
    {
     "name": "stdout",
     "output_type": "stream",
     "text": [
      "[('Newfoundland and Labrador', 172918), ('St. John’s', 172918)]\n",
      "[('Prince Edward Island', 58358), ('Charlottetown ', 58358)]\n",
      "[('Nova Scotia', 359183), ('Halifax', 359183)]\n",
      "[('New Brunswick', 81346), ('Fredericton', 81346)]\n",
      "[('Quebec', 682757), ('Quebec City', 682757)]\n",
      "[('Ontario', 4682897), ('Toronto', 4682897)]\n",
      "[('Manitoba', 671274), ('Winnipeg', 671274)]\n",
      "[('Saskatchewan', 192800), ('Regina', 192800)]\n",
      "[('Alberta', 937845), ('Edmonton', 937845)]\n",
      "[('British Columbia', 311902), ('Victoria', 311902)]\n",
      "[('Yukon Territory', 21405), ('Whitehorse', 21405)]\n",
      "[('Northwest Territories', 16541), ('Yellowknife', 16541)]\n",
      "[('Nunavut', 5236), ('Iqaluit', 5236)]\n"
     ]
    }
   ],
   "source": [
    "cur.execute('select territory, population, capital, population from Capitals')\n",
    "rows = cur.fetchall()\n",
    "for i in rows:\n",
    "    print([(i[0],i[1]),(i[2],i[3])])"
   ]
  },
  {
   "cell_type": "markdown",
   "metadata": {},
   "source": [
    "c. Retrieve the land area of the provinces whose capitals have populations\n",
    "greater than 100,000\n"
   ]
  },
  {
   "cell_type": "code",
   "execution_count": 48,
   "metadata": {},
   "outputs": [
    {
     "name": "stdout",
     "output_type": "stream",
     "text": [
      "370501.69\n",
      "52917.43\n",
      "1357743.08\n",
      "907655.59\n",
      "551937.87\n",
      "586561.35\n",
      "639987.12\n",
      "926492.48\n"
     ]
    }
   ],
   "source": [
    "cur.execute('select land_area from density join Capitals on density.territory=Capitals.territory where Capitals.population> 100000')\n",
    "rows = cur.fetchall()\n",
    "for i in rows:\n",
    "    print(i[0])"
   ]
  },
  {
   "cell_type": "markdown",
   "metadata": {},
   "source": [
    "d. Retrieve the provinces with land densities less than two people per\n",
    "square kilometer and capital city populations more than 500,000"
   ]
  },
  {
   "cell_type": "code",
   "execution_count": 49,
   "metadata": {},
   "outputs": [],
   "source": [
    "cur.execute('select territory, (population/land_area) from density where (population/land_area)<2 and territory =(select territory from Capitals where population>500000)')\n",
    "rows = cur.fetchall()\n",
    "for i in rows:\n",
    "    print(i[0],i[1])"
   ]
  },
  {
   "cell_type": "markdown",
   "metadata": {},
   "source": [
    "e. Retrieve the total land area of Canada"
   ]
  },
  {
   "cell_type": "code",
   "execution_count": 50,
   "metadata": {},
   "outputs": [
    {
     "name": "stdout",
     "output_type": "stream",
     "text": [
      "9012112.19\n"
     ]
    }
   ],
   "source": [
    "cur.execute('select sum(land_area) from density')\n",
    "rows = cur.fetchall()\n",
    "for i in rows:\n",
    "    print(i[0])"
   ]
  },
  {
   "cell_type": "markdown",
   "metadata": {},
   "source": [
    "f. Retrieve the average capital city population"
   ]
  },
  {
   "cell_type": "code",
   "execution_count": 51,
   "metadata": {},
   "outputs": [
    {
     "name": "stdout",
     "output_type": "stream",
     "text": [
      "630343.2307692308\n"
     ]
    }
   ],
   "source": [
    "cur.execute('select avg(population) from Capitals')\n",
    "rows = cur.fetchall()\n",
    "for i in rows:\n",
    "    print(i[0])"
   ]
  },
  {
   "cell_type": "markdown",
   "metadata": {},
   "source": [
    "g. Retrieve the lowest capital city population"
   ]
  },
  {
   "cell_type": "code",
   "execution_count": 52,
   "metadata": {},
   "outputs": [
    {
     "name": "stdout",
     "output_type": "stream",
     "text": [
      "5236\n"
     ]
    }
   ],
   "source": [
    "cur.execute('select min(population) from Capitals')\n",
    "rows = cur.fetchall()\n",
    "for i in rows:\n",
    "    print(i[0])"
   ]
  },
  {
   "cell_type": "markdown",
   "metadata": {},
   "source": [
    "h. Retrieve the highest province/territory population"
   ]
  },
  {
   "cell_type": "code",
   "execution_count": 53,
   "metadata": {},
   "outputs": [
    {
     "name": "stdout",
     "output_type": "stream",
     "text": [
      "11410046\n"
     ]
    }
   ],
   "source": [
    "cur.execute('select max(population) from density')\n",
    "rows = cur.fetchall()\n",
    "for i in rows:\n",
    "    print(i[0])"
   ]
  },
  {
   "cell_type": "markdown",
   "metadata": {},
   "source": [
    "i. Retrieve the provinces that have land densities within 0.5 persons per\n",
    "square kilometer of on another—have each pair of provinces reported\n",
    "only once"
   ]
  },
  {
   "cell_type": "code",
   "execution_count": 54,
   "metadata": {},
   "outputs": [
    {
     "name": "stdout",
     "output_type": "stream",
     "text": [
      "[('Newfoundland and Labrador', 'Saskatchewan'), ('Manitoba', 'Saskatchewan'), ('Saskatchewan', 'Newfoundland and Labrador'), ('Saskatchewan', 'Manitoba'), ('Alberta', 'British Columbia'), ('British Columbia', 'Alberta'), ('Yukon Territory', 'Northwest Territories'), ('Yukon Territory', 'Nunavut'), ('Northwest Territories', 'Yukon Territory'), ('Northwest Territories', 'Nunavut'), ('Nunavut', 'Yukon Territory'), ('Nunavut', 'Northwest Territories')]\n"
     ]
    }
   ],
   "source": [
    "provinces_list = [] \n",
    "cur.execute('select D1.territory, D2.territory from density as D1 join density as D2 where abs(D1.population/D1.land_area - D2.population/D2.land_area) <0.5 and D1.territory != D2.territory')\n",
    "rows = cur.fetchall()\n",
    "for i in rows:\n",
    "    province_tuple = (i[0],i[1])\n",
    "    if province_tuple not in provinces_list:\n",
    "        provinces_list.append(province_tuple)\n",
    "print(provinces_list)"
   ]
  },
  {
   "cell_type": "code",
   "execution_count": 55,
   "metadata": {},
   "outputs": [],
   "source": [
    "conn.close()"
   ]
  },
  {
   "cell_type": "markdown",
   "metadata": {},
   "source": [
    "### Question 3 \n",
    "Write a Python program that creates a new database and executes the\n",
    "following SQL statements. How do the results of the SELECT statements\n",
    "differ from what you would expect Python itself to do? Why?"
   ]
  },
  {
   "cell_type": "code",
   "execution_count": 56,
   "metadata": {},
   "outputs": [],
   "source": [
    "conn = sqlite3.connect('Database/Q3.db')\n",
    "cur = conn.cursor()\n",
    "cur.execute('create table numbers (val integer)')\n",
    "cur.execute('insert into numbers values (1)')\n",
    "cur.execute('insert into numbers values (2)')\n",
    "conn.commit()"
   ]
  },
  {
   "cell_type": "code",
   "execution_count": 57,
   "metadata": {},
   "outputs": [],
   "source": [
    "cur.execute('SELECT * FROM Numbers WHERE 1/0')\n",
    "rows = cur.fetchall()\n",
    "for i in rows:\n",
    "    print(i)"
   ]
  },
  {
   "cell_type": "code",
   "execution_count": 58,
   "metadata": {},
   "outputs": [],
   "source": [
    "cur.execute('SELECT * FROM Numbers WHERE 1/0 AND Val > 0')\n",
    "rows = cur.fetchall()\n",
    "for i in rows:\n",
    "    print(i)"
   ]
  },
  {
   "cell_type": "code",
   "execution_count": 59,
   "metadata": {},
   "outputs": [],
   "source": [
    "cur.execute('SELECT * FROM Numbers WHERE Val > 0 AND 1/0')\n",
    "rows = cur.fetchall()\n",
    "for i in rows:\n",
    "    print(i)"
   ]
  },
  {
   "cell_type": "code",
   "execution_count": 60,
   "metadata": {},
   "outputs": [],
   "source": [
    "conn.close()"
   ]
  },
  {
   "cell_type": "code",
   "execution_count": null,
   "metadata": {},
   "outputs": [],
   "source": []
  }
 ],
 "metadata": {
  "kernelspec": {
   "display_name": "Python 3",
   "language": "python",
   "name": "python3"
  },
  "language_info": {
   "codemirror_mode": {
    "name": "ipython",
    "version": 3
   },
   "file_extension": ".py",
   "mimetype": "text/x-python",
   "name": "python",
   "nbconvert_exporter": "python",
   "pygments_lexer": "ipython3",
   "version": "3.7.3"
  }
 },
 "nbformat": 4,
 "nbformat_minor": 2
}
